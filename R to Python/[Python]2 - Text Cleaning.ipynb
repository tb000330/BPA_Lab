{
 "cells": [
  {
   "cell_type": "code",
   "execution_count": 10,
   "id": "e5033c03",
   "metadata": {},
   "outputs": [
    {
     "name": "stderr",
     "output_type": "stream",
     "text": [
      "[nltk_data] Downloading package omw-1.4 to\n",
      "[nltk_data]     C:\\Users\\user\\AppData\\Roaming\\nltk_data...\n"
     ]
    }
   ],
   "source": [
    "import nltk\n",
    "from nltk import sent_tokenize\n",
    "from nltk import word_tokenize\n",
    "from  nltk.corpus import stopwords\n",
    "# nltk.download('stopwords')\n",
    "# nltk.download('wordnet')\n",
    "# nltk.download('omw-1.4')\n",
    "from nltk.stem import PorterStemmer, WordNetLemmatizer\n",
    "\n",
    "import re\n",
    "\n",
    "import os\n",
    "import pandas as pd\n",
    "import numpy as np"
   ]
  },
  {
   "cell_type": "markdown",
   "id": "008bffed",
   "metadata": {},
   "source": [
    "##### PorterStemmer()\n",
    "1) 어간(stem)\n",
    ": 단어의 의미를 담고 있는 단어의 핵심 부분.\n",
    "\n",
    "2) 접사(affix)\n",
    ": 단어에 추가적인 의미를 주는 부분.\n",
    "\n",
    "##### WordNetLemmatizer()"
   ]
  },
  {
   "cell_type": "code",
   "execution_count": 11,
   "id": "c29b21f4",
   "metadata": {},
   "outputs": [],
   "source": [
    "src_dir = \"C:/Users/user/Desktop/220809 - Top Hotels/Sentence\"\n",
    "# src_dir = \"C:/Users/user/Desktop/TripAdvisor Reviews/Quarantine Reviews\"\n",
    "src_file = os.listdir(src_dir)\n",
    "src_file\n",
    "src_file_cnt = len(src_file)"
   ]
  },
  {
   "cell_type": "code",
   "execution_count": 30,
   "id": "77a50cc4",
   "metadata": {},
   "outputs": [
    {
     "name": "stdout",
     "output_type": "stream",
     "text": [
      "1-Tulemar(sentence)\n",
      "11-IksoDassia(sentence)\n",
      "12-Pimalai(sentence)\n",
      "13-LotteHanoiHotel(sentence)\n",
      "14-COMO(sentence)\n",
      "15-LaMaisonFavart(sentence)\n",
      "16-Sukhumvit(sentence)\n",
      "17-QuintaJardins(sentence)\n",
      "18-LaMaisonArabe(sentence)\n",
      "19-RoyalPurnama(sentence)\n",
      "20-JayaHouse(sentence)\n",
      "21-Hazelton(sentence)\n",
      "22-RoundHillHotel(sentence)\n",
      "23-Saraye(sentence)\n",
      "24-Bucuti(sentence)\n",
      "25-Oberoi(sentence)\n",
      "3-IkosAria(sentence)\n",
      "4-RomanceIstanbul(sentence)\n",
      "5-Omnia(sentence)\n",
      "6-Kayakapi(sentence)\n",
      "7-SixSenses(sentence)\n",
      "8-Hamanasi(sentence)\n",
      "9-Padma(sentence)\n"
     ]
    }
   ],
   "source": [
    "# Text cleaning process\n",
    "for i in range(src_file_cnt):\n",
    "    f = open(src_dir+\"/\"+src_file[i], 'r')\n",
    "    text = f.readlines()\n",
    "    name = src_file[i].replace('.txt', '')  \n",
    "    print(name)\n",
    "    \n",
    "    saveaddress = \"C:/Users/user/Desktop/220809 - Top Hotels/python_cleaning_text/\"+name+\"(refined).txt\"\n",
    "    docs = open(saveaddress, 'w')\n",
    "  \n",
    "    # Load the data as a corpus\n",
    "    for sen in text:\n",
    "        # Convert the text to lower case\n",
    "        sen = sen.lower()\n",
    "        # Remove numbers\n",
    "        sen = re.sub(r'\\d+','', sen)\n",
    "        # Remove punctuations\n",
    "        sen = re.sub(\"[^a-zA-Z]\", \" \", sen)\n",
    "        \n",
    "        # sentence as a word token\n",
    "        sen_tokens = word_tokenize(sen) \n",
    "        wnl = WordNetLemmatizer()\n",
    "        sen_token = [wnl.lemmatize(token) for token in sen_tokens]\n",
    "        \n",
    "        # Remove english common stopwords\n",
    "        stop_words = set(stopwords.words('english'))\n",
    "        stop_sen_token = [word for word in sen_token if word not in stop_words]\n",
    "\n",
    "        # Eliminate extra white spaces\n",
    "        strip_sen_token = [strip_token.strip() for strip_token in stop_sen_token]\n",
    "        \n",
    "        # specify your stopwords as a character vector\n",
    "        etc_stop_words = set([\"also\", \"can\", \"will\", \"ubububububwifiubububububub\", \"ububububub\"])\n",
    "        etc_stop_sen_token = [etc_word for etc_word in strip_sen_token if etc_word not in etc_stop_words]\n",
    "        \n",
    "        docs.write(\" \".join(etc_stop_sen_token))\n",
    "        docs.write('\\n')\n",
    "    \n",
    "    docs.close()"
   ]
  }
 ],
 "metadata": {
  "kernelspec": {
   "display_name": "Python 3 (ipykernel)",
   "language": "python",
   "name": "python3"
  },
  "language_info": {
   "codemirror_mode": {
    "name": "ipython",
    "version": 3
   },
   "file_extension": ".py",
   "mimetype": "text/x-python",
   "name": "python",
   "nbconvert_exporter": "python",
   "pygments_lexer": "ipython3",
   "version": "3.9.12"
  }
 },
 "nbformat": 4,
 "nbformat_minor": 5
}

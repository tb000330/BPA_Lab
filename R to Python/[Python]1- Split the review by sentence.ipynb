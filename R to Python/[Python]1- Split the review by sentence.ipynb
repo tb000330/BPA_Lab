{
 "cells": [
  {
   "cell_type": "code",
   "execution_count": 1,
   "id": "107a0b1e",
   "metadata": {},
   "outputs": [],
   "source": [
    "import tokenizers\n",
    "import nltk\n",
    "import numpy as np\n",
    "# nltk.download('punkt')\n",
    "import os"
   ]
  },
  {
   "cell_type": "code",
   "execution_count": 2,
   "id": "6bba3c7d",
   "metadata": {},
   "outputs": [],
   "source": [
    "src_dir = \"C:/Users/user/Desktop/220809 - Top Hotels/Raw Data\"   \n",
    "src_file = os.listdir(src_dir)\n",
    "src_file\n",
    "src_file_cnt = len(src_file)"
   ]
  },
  {
   "cell_type": "code",
   "execution_count": 3,
   "id": "6f7e4295",
   "metadata": {},
   "outputs": [
    {
     "name": "stdout",
     "output_type": "stream",
     "text": [
      "1-Tulemar\n",
      "11-IksoDassia\n",
      "12-Pimalai\n",
      "13-LotteHanoiHotel\n",
      "14-COMO\n",
      "15-LaMaisonFavart\n",
      "16-Sukhumvit\n",
      "17-QuintaJardins\n",
      "18-LaMaisonArabe\n",
      "19-RoyalPurnama\n",
      "20-JayaHouse\n",
      "21-Hazelton\n",
      "22-RoundHillHotel\n",
      "23-Saraye\n",
      "24-Bucuti\n",
      "25-Oberoi\n",
      "3-IkosAria\n",
      "4-RomanceIstanbul\n",
      "5-Omnia\n",
      "6-Kayakapi\n",
      "7-SixSenses\n",
      "8-Hamanasi\n",
      "9-Padma\n"
     ]
    }
   ],
   "source": [
    "for i in range(src_file_cnt):\n",
    "    f = open(src_dir+\"/\"+src_file[i], 'r')\n",
    "    Rword = f.readline()\n",
    "    Rword\n",
    "    \n",
    "    name = src_file[i].replace('.txt', '')  \n",
    "    print(name)\n",
    "    saveaddress = \"C:/Users/user/Desktop/220809 - Top Hotels/Sentence/\"+name+\"(sentence).txt\"\n",
    "    \n",
    "    Rsentese = nltk.sent_tokenize(Rword)\n",
    "    f_sen = open(saveaddress, 'w')\n",
    "    for sen in Rsentese:\n",
    "        f_sen.write(sen)\n",
    "        f_sen.write('\\n')\n",
    "    f.close()"
   ]
  },
  {
   "cell_type": "code",
   "execution_count": 5,
   "id": "1f1b6f14",
   "metadata": {},
   "outputs": [
    {
     "data": {
      "text/plain": [
       "'We had an amazing stay at Padma and would def recommend it to other couples that are visiting the Ubud area of Bali. It had a great view and pool area and the morning walk by the jungle is mesmerizing. They also had lots of activities one can participate in like Archery.\\n'"
      ]
     },
     "execution_count": 5,
     "metadata": {},
     "output_type": "execute_result"
    }
   ],
   "source": [
    "Rword"
   ]
  },
  {
   "cell_type": "code",
   "execution_count": null,
   "id": "4d7157b3",
   "metadata": {},
   "outputs": [],
   "source": []
  }
 ],
 "metadata": {
  "kernelspec": {
   "display_name": "Python 3 (ipykernel)",
   "language": "python",
   "name": "python3"
  },
  "language_info": {
   "codemirror_mode": {
    "name": "ipython",
    "version": 3
   },
   "file_extension": ".py",
   "mimetype": "text/x-python",
   "name": "python",
   "nbconvert_exporter": "python",
   "pygments_lexer": "ipython3",
   "version": "3.9.12"
  }
 },
 "nbformat": 4,
 "nbformat_minor": 5
}
